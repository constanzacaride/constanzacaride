{
  "nbformat": 4,
  "nbformat_minor": 0,
  "metadata": {
    "colab": {
      "provenance": [],
      "authorship_tag": "ABX9TyPx3mLByqSCdkaP+tkNVHkH",
      "include_colab_link": true
    },
    "kernelspec": {
      "name": "python3",
      "display_name": "Python 3"
    },
    "language_info": {
      "name": "python"
    }
  },
  "cells": [
    {
      "cell_type": "markdown",
      "metadata": {
        "id": "view-in-github",
        "colab_type": "text"
      },
      "source": [
        "<a href=\"https://colab.research.google.com/github/constanzacaride/constanzacaride/blob/main/Instructivo.ipynb\" target=\"_parent\"><img src=\"https://colab.research.google.com/assets/colab-badge.svg\" alt=\"Open In Colab\"/></a>"
      ]
    },
    {
      "cell_type": "markdown",
      "source": [
        "![Header](https://drive.google.com/uc?export=view&id=17SjVq6J5XylyK1L7nkJCaO-A-UYzMpIM)"
      ],
      "metadata": {
        "id": "W0a76k21lf-P"
      }
    },
    {
      "cell_type": "markdown",
      "source": [
        "Para realizar el seguimiento forrajero es necesario contar con la información de ubicación de cada lote y el uso de este en cada una de las campañas.\n",
        "Los datos deberán ser entregados de la siguiente manera:\n"
      ],
      "metadata": {
        "id": "m4R6TXGzgMc-"
      }
    },
    {
      "cell_type": "markdown",
      "source": [
        "##A- Ubicación del lote"
      ],
      "metadata": {
        "id": "IV1uiDjmjjNP"
      }
    },
    {
      "cell_type": "markdown",
      "source": [
        "<p align=\"justify\">\n",
        "Deberá generarse una carpeta por establecimiento/unidad productiva y dentro de ella un polígono, en formato kml, por cada lote. En ambos casos el nombre será el que quedará registrado en la Base de datos de Forrager. </br> A continuación, se explica, paso a paso, como obtener la información con el programa Google Earth Pro. </br>\n",
        "1- Descargar el programa desde el siguiente link\n"
      ],
      "metadata": {
        "id": "6Yi0_qiUgMgP"
      }
    },
    {
      "cell_type": "markdown",
      "source": [
        "[Presionar para descargar el programa Google Earth Pro](https://maps.google.com/intl/es/earth/download/gep/agree.html)"
      ],
      "metadata": {
        "id": "dfTyr4-7Mv2z"
      }
    },
    {
      "cell_type": "markdown",
      "source": [
        "![Descarga](https://drive.google.com/uc?export=view&id=1mRaCdXSP4JnTq6ALxf99eosWmgUBPFeM)"
      ],
      "metadata": {
        "id": "x8RqlyWcgMji"
      }
    },
    {
      "cell_type": "markdown",
      "source": [
        "![Archivo .exe](https://drive.google.com/uc?export=view&id=1cadAfdnwNySDL5EwGB9RDPZ1mB1M28c1)\n"
      ],
      "metadata": {
        "id": "VDR-a2TWgMng"
      }
    },
    {
      "cell_type": "markdown",
      "source": [
        "2- Hacer doble click sobre el archivo e instalar en la PC."
      ],
      "metadata": {
        "id": "SNDBIo2xjwWj"
      }
    },
    {
      "cell_type": "markdown",
      "source": [
        "![Icono](https://drive.google.com/uc?export=view&id=1-gT3V3l3v1-sapb98ML2vV6ZMOVsrkso)\n"
      ],
      "metadata": {
        "id": "qTvSI7mhn7GL"
      }
    },
    {
      "cell_type": "markdown",
      "source": [
        "3- Abrir el Google Earth"
      ],
      "metadata": {
        "id": "PfgkABWQn7I2"
      }
    },
    {
      "cell_type": "markdown",
      "source": [],
      "metadata": {
        "id": "JLNSSrpPn7Lq"
      }
    },
    {
      "cell_type": "markdown",
      "source": [
        "![Google Earth Pro](https://drive.google.com/uc?export=view&id=13k-uOhQt99R8AvSkQZWaZP2IRi_qWuPS)"
      ],
      "metadata": {
        "id": "t7Adj3M-n7Of"
      }
    },
    {
      "cell_type": "markdown",
      "source": [
        "4- Presionando el botón derecho sobre Lugares Temporales, añadir una nueva carpeta y colocarle como nombre el del establecimiento."
      ],
      "metadata": {
        "id": "8msByGjvjwZ_"
      }
    },
    {
      "cell_type": "markdown",
      "source": [
        "![Crear Carpeta](https://drive.google.com/uc?export=view&id=1wLqNmPDGcDJUp1NztTUEwjpnGjBkBYve)"
      ],
      "metadata": {
        "id": "mC2O_ITnp_wV"
      }
    },
    {
      "cell_type": "markdown",
      "source": [
        "<p align=\"justify\">\n",
        "5- Sobre la carpeta creada, presionar botón derecho y elegir “Añadir/Polígono”, o presionar el botón “Agregar polígono” en la barra del menú. Se abrirá una ventana donde se coloca el nombre correspondiente y se setea el “Estilo, color” de la siguiente manera para poder ver solo el contorno."
      ],
      "metadata": {
        "id": "YO_rSPhyjwc4"
      }
    },
    {
      "cell_type": "markdown",
      "source": [
        "![Dibujar poligono1](https://drive.google.com/uc?export=view&id=1jIbPph6eTgM1Tquh5sq3kXBDovCQVoNw)"
      ],
      "metadata": {
        "id": "VAzwIYW4qZz5"
      }
    },
    {
      "cell_type": "markdown",
      "source": [
        "![Dibujar poligono2](https://drive.google.com/uc?export=view&id=1By6XcKy-GfIybhaXx3SmD2_BPWK_8drp)"
      ],
      "metadata": {
        "id": "RGUFp2ZrqZ3L"
      }
    },
    {
      "cell_type": "markdown",
      "source": [
        "<p align=\"justify\">\n",
        "NO SE DEBE CERRAR LA VENTANA, ubicarla a un costado y dibujar el lote sobre la imagen. Una vez listo, seleccionar ACEPTAR en la ventana. Se guardará el lote dentro de la carpeta."
      ],
      "metadata": {
        "id": "UtdaS9PNjwfl"
      }
    },
    {
      "cell_type": "markdown",
      "source": [
        "![Dibujar poligono3](https://drive.google.com/uc?export=view&id=1ixb1LORpFSjsLh61-LyNjkzwbmN71MBf)"
      ],
      "metadata": {
        "id": "LigeqbHJqZ5o"
      }
    },
    {
      "cell_type": "markdown",
      "source": [
        "![Dibujar poligono4](https://drive.google.com/uc?export=view&id=1vu-BTN4YXAdNQT2q6Rn7oXTIgLDxuiDJ)"
      ],
      "metadata": {
        "id": "iNBPK3_CrIR5"
      }
    },
    {
      "cell_type": "markdown",
      "source": [
        "En caso de querer cambiar la geometría del  lote, seleccionar con botón derecho en la tabla de contenidos e ir a Propiedades."
      ],
      "metadata": {
        "id": "ATgn07jOrIU2"
      }
    },
    {
      "cell_type": "markdown",
      "source": [
        "![Editar poligono1](https://drive.google.com/uc?export=view&id=1tV3N4Y8fY07UJEgSJk8j88Rbdhb7JdhC)"
      ],
      "metadata": {
        "id": "NymUrjeErIX3"
      }
    },
    {
      "cell_type": "markdown",
      "source": [
        "<p align=\"justify\">\n",
        "Se volverá a abrir la ventana del lote, y posicionándonos sobre el polígono en el mapa, presionar el botón izquierdo y mover los nodos al lugar correspondiente."
      ],
      "metadata": {
        "id": "5EMtP9H6rIPt"
      }
    },
    {
      "cell_type": "markdown",
      "source": [
        "![Editar poligono2](https://drive.google.com/uc?export=view&id=1YUVzkP_HGumYw1kU40xpl9pRsEoFwn-9)"
      ],
      "metadata": {
        "id": "Ph5dRnyXsbST"
      }
    },
    {
      "cell_type": "markdown",
      "source": [
        "6- Repetir el punto número 5 para cada uno de los lotes."
      ],
      "metadata": {
        "id": "9jT47z9Ht3rm"
      }
    },
    {
      "cell_type": "markdown",
      "source": [
        "![Todos los lotes](https://drive.google.com/uc?export=view&id=1DRgHk7VBABgjOIuGKwnXc0YGRIIaL3sY)"
      ],
      "metadata": {
        "id": "IHk5fK0It3vC"
      }
    },
    {
      "cell_type": "markdown",
      "source": [
        "<p align=\"justify\">\n",
        "7- Una vez que ya están digitalizados todos los lotes del establecimiento, presionar botón derecho sobre la carpeta y seleccionar “Guardar lugar como…”. Elegir la ruta y guardar en formato kml. Este es el archivo que se deberá enviar, uno por cada establecimiento."
      ],
      "metadata": {
        "id": "-xiCTBnqsbVF"
      }
    },
    {
      "cell_type": "markdown",
      "source": [
        "![Exportar1](https://drive.google.com/uc?export=view&id=192Jz8u-kaUBhXN3LY9Bl4RwhpjH3g3g6)"
      ],
      "metadata": {
        "id": "nIGu-engsbX_"
      }
    },
    {
      "cell_type": "markdown",
      "source": [
        "![Exportar2](https://drive.google.com/uc?export=view&id=1r9TYfi5ZBXxaUjpVZaW0qGloXdymIZKA)"
      ],
      "metadata": {
        "id": "lFXWoYqDuE2M"
      }
    },
    {
      "cell_type": "markdown",
      "source": [
        "![Exportar3](https://drive.google.com/uc?export=view&id=12YyNJGgHgWktoJHnPVdxnqTjrQi98j_T)"
      ],
      "metadata": {
        "id": "m4fsv5sruE4-"
      }
    },
    {
      "cell_type": "markdown",
      "source": [
        "##B- Información de uso"
      ],
      "metadata": {
        "id": "RZVMe7pnuE7z"
      }
    },
    {
      "cell_type": "markdown",
      "source": [
        "<p align=\"justify\">\n",
        "La información de uso deberá proveerse en una planilla en formato Excel. Los nombres de los lotes deberán coincidir con los proporcionados en el vector (polígonos) y deberá figurar su uso para los últimos años/campañas. Un ejemplo podría ser el siguiente:"
      ],
      "metadata": {
        "id": "Ua3GQKNqsbaw"
      }
    }
  ]
}